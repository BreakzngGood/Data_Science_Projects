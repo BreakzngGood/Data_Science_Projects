{
 "cells": [
  {
   "cell_type": "markdown",
   "metadata": {},
   "source": [
    "# Week5 Regression Prediction For Laptop Price\n",
    "\n",
    "## 1.Introduction\n",
    "\n",
    "In this week's project, based on a dataset containing different laptop features and specifications, I attempted to use regression models to predict the price of laptops.\n",
    "\n",
    "The primary reason for selecting this dataset is its feature composition. When predicting real-world problems, it is essential to consider not only numerical factors but also categorical ones. For example, in the classic house price prediction problem, quantifiable attributes such as the house’s size are important, but factors like location and city also play a crucial role in determining prices. In order to be closer to the actual application scenario, I hope to be able to choose a dataset with relatively complex feature types so that I can better practice. And I finally chose this one for predicting laptop prices. Since the majority of its features are object-type data, I processed these features in the following process and  applied regression modeling by this dataset.\n",
    "\n",
    "The first step of the project involves `processing and analyzing the raw dataset`, which includes handling missing values , understanding the characteristics and distributions of different columns and so on. This process helps me to gain a comprehensive understanding of the data.\n",
    "\n",
    "During the `feature engineering` phase, I categorized the features and designed different processing strategies for each type. Additionally, I explored the `correlations` between features, identify key variables, and eliminate redundant features to enhance the model’s performance and reduce the risk of overfitting.\n",
    "\n",
    "In the `model training` phase, I selected regression models that are appropriate for the data characteristics, including but not limited to linear regression and tree-based regression models. I also fine-tuned the model’s parameters, ultimately identifying the optimal model for price prediction."
   ]
  },
  {
   "cell_type": "code",
   "execution_count": 36,
   "metadata": {},
   "outputs": [],
   "source": [
    "import numpy as np\n",
    "import pandas as pd\n",
    "import seaborn as sns\n",
    "import matplotlib.pyplot as plt\n",
    "from sklearn.decomposition import PCA\n",
    "from sklearn.preprocessing import OneHotEncoder, LabelEncoder\n",
    "import matplotlib\n"
   ]
  },
  {
   "cell_type": "markdown",
   "metadata": {},
   "source": [
    "## 2. Data Preprocess And Analysis\n"
   ]
  },
  {
   "cell_type": "code",
   "execution_count": 37,
   "metadata": {},
   "outputs": [],
   "source": [
    "df_train = pd.read_csv(r\"../Datasets\\laptops_test.csv\") \n",
    "df_test = pd.read_csv(r\"../Datasets\\laptops_train.csv\")"
   ]
  },
  {
   "cell_type": "markdown",
   "metadata": {},
   "source": [
    "To facilitate data processing, I merged the df_train and df_test datasets using `.concat()` and performed an overview of the combined dataset."
   ]
  },
  {
   "cell_type": "code",
   "execution_count": 38,
   "metadata": {},
   "outputs": [
    {
     "data": {
      "text/plain": [
       "(1302, 13)"
      ]
     },
     "execution_count": 38,
     "metadata": {},
     "output_type": "execute_result"
    }
   ],
   "source": [
    "# preprocess datasets\n",
    "df = pd.concat([df_train,df_test]) \n",
    "df.shape"
   ]
  },
  {
   "cell_type": "code",
   "execution_count": 39,
   "metadata": {},
   "outputs": [
    {
     "data": {
      "text/html": [
       "<div>\n",
       "<style scoped>\n",
       "    .dataframe tbody tr th:only-of-type {\n",
       "        vertical-align: middle;\n",
       "    }\n",
       "\n",
       "    .dataframe tbody tr th {\n",
       "        vertical-align: top;\n",
       "    }\n",
       "\n",
       "    .dataframe thead th {\n",
       "        text-align: right;\n",
       "    }\n",
       "</style>\n",
       "<table border=\"1\" class=\"dataframe\">\n",
       "  <thead>\n",
       "    <tr style=\"text-align: right;\">\n",
       "      <th></th>\n",
       "      <th>Manufacturer</th>\n",
       "      <th>Model Name</th>\n",
       "      <th>Category</th>\n",
       "      <th>Screen Size</th>\n",
       "      <th>Screen</th>\n",
       "      <th>CPU</th>\n",
       "      <th>RAM</th>\n",
       "      <th>Storage</th>\n",
       "      <th>GPU</th>\n",
       "      <th>Operating System</th>\n",
       "      <th>Operating System Version</th>\n",
       "      <th>Weight</th>\n",
       "      <th>Price</th>\n",
       "    </tr>\n",
       "  </thead>\n",
       "  <tbody>\n",
       "    <tr>\n",
       "      <th>0</th>\n",
       "      <td>HP</td>\n",
       "      <td>15-bs053od (i7-7500U/6GB/1TB/W10)</td>\n",
       "      <td>Notebook</td>\n",
       "      <td>15.6\"</td>\n",
       "      <td>1366x768</td>\n",
       "      <td>Intel Core i7 7500U 2.7GHz</td>\n",
       "      <td>6GB</td>\n",
       "      <td>1TB HDD</td>\n",
       "      <td>Intel HD Graphics 620</td>\n",
       "      <td>Windows</td>\n",
       "      <td>10</td>\n",
       "      <td>2.04kg</td>\n",
       "      <td>5148468.0</td>\n",
       "    </tr>\n",
       "    <tr>\n",
       "      <th>1</th>\n",
       "      <td>Asus</td>\n",
       "      <td>Rog GL753VE-DS74</td>\n",
       "      <td>Gaming</td>\n",
       "      <td>17.3\"</td>\n",
       "      <td>Full HD 1920x1080</td>\n",
       "      <td>Intel Core i7 7700HQ 2.8GHz</td>\n",
       "      <td>16GB</td>\n",
       "      <td>256GB SSD +  1TB HDD</td>\n",
       "      <td>Nvidia GeForce GTX 1050 Ti</td>\n",
       "      <td>Windows</td>\n",
       "      <td>10</td>\n",
       "      <td>2.99kg</td>\n",
       "      <td>15552108.0</td>\n",
       "    </tr>\n",
       "    <tr>\n",
       "      <th>2</th>\n",
       "      <td>Dell</td>\n",
       "      <td>Inspiron 7579</td>\n",
       "      <td>2 in 1 Convertible</td>\n",
       "      <td>15.6\"</td>\n",
       "      <td>IPS Panel Full HD / Touchscreen 1920x1080</td>\n",
       "      <td>Intel Core i7 7500U 2.7GHz</td>\n",
       "      <td>12GB</td>\n",
       "      <td>512GB SSD</td>\n",
       "      <td>Intel HD Graphics 620</td>\n",
       "      <td>Windows</td>\n",
       "      <td>10</td>\n",
       "      <td>2.19kg</td>\n",
       "      <td>11550708.0</td>\n",
       "    </tr>\n",
       "    <tr>\n",
       "      <th>3</th>\n",
       "      <td>Toshiba</td>\n",
       "      <td>Portege Z30-C-1CV</td>\n",
       "      <td>Notebook</td>\n",
       "      <td>13.3\"</td>\n",
       "      <td>Full HD 1920x1080</td>\n",
       "      <td>Intel Core i5 6200U 2.3GHz</td>\n",
       "      <td>4GB</td>\n",
       "      <td>128GB SSD</td>\n",
       "      <td>Intel HD Graphics 520</td>\n",
       "      <td>Windows</td>\n",
       "      <td>7</td>\n",
       "      <td>1.2kg</td>\n",
       "      <td>10625940.0</td>\n",
       "    </tr>\n",
       "    <tr>\n",
       "      <th>4</th>\n",
       "      <td>Lenovo</td>\n",
       "      <td>IdeaPad 320-15ABR</td>\n",
       "      <td>Notebook</td>\n",
       "      <td>15.6\"</td>\n",
       "      <td>Full HD 1920x1080</td>\n",
       "      <td>AMD A12-Series 9720P 3.6GHz</td>\n",
       "      <td>6GB</td>\n",
       "      <td>256GB SSD</td>\n",
       "      <td>AMD Radeon 530</td>\n",
       "      <td>Windows</td>\n",
       "      <td>10</td>\n",
       "      <td>2.2kg</td>\n",
       "      <td>4881708.0</td>\n",
       "    </tr>\n",
       "  </tbody>\n",
       "</table>\n",
       "</div>"
      ],
      "text/plain": [
       "  Manufacturer                         Model Name            Category  \\\n",
       "0           HP  15-bs053od (i7-7500U/6GB/1TB/W10)            Notebook   \n",
       "1         Asus                   Rog GL753VE-DS74              Gaming   \n",
       "2         Dell                      Inspiron 7579  2 in 1 Convertible   \n",
       "3      Toshiba                  Portege Z30-C-1CV            Notebook   \n",
       "4       Lenovo                  IdeaPad 320-15ABR            Notebook   \n",
       "\n",
       "  Screen Size                                     Screen  \\\n",
       "0       15.6\"                                   1366x768   \n",
       "1       17.3\"                          Full HD 1920x1080   \n",
       "2       15.6\"  IPS Panel Full HD / Touchscreen 1920x1080   \n",
       "3       13.3\"                          Full HD 1920x1080   \n",
       "4       15.6\"                          Full HD 1920x1080   \n",
       "\n",
       "                           CPU   RAM               Storage  \\\n",
       "0   Intel Core i7 7500U 2.7GHz   6GB               1TB HDD   \n",
       "1  Intel Core i7 7700HQ 2.8GHz  16GB  256GB SSD +  1TB HDD   \n",
       "2   Intel Core i7 7500U 2.7GHz  12GB             512GB SSD   \n",
       "3   Intel Core i5 6200U 2.3GHz   4GB             128GB SSD   \n",
       "4  AMD A12-Series 9720P 3.6GHz   6GB             256GB SSD   \n",
       "\n",
       "                          GPU Operating System Operating System Version  \\\n",
       "0       Intel HD Graphics 620          Windows                       10   \n",
       "1  Nvidia GeForce GTX 1050 Ti          Windows                       10   \n",
       "2       Intel HD Graphics 620          Windows                       10   \n",
       "3       Intel HD Graphics 520          Windows                        7   \n",
       "4              AMD Radeon 530          Windows                       10   \n",
       "\n",
       "   Weight       Price  \n",
       "0  2.04kg   5148468.0  \n",
       "1  2.99kg  15552108.0  \n",
       "2  2.19kg  11550708.0  \n",
       "3   1.2kg  10625940.0  \n",
       "4   2.2kg   4881708.0  "
      ]
     },
     "execution_count": 39,
     "metadata": {},
     "output_type": "execute_result"
    }
   ],
   "source": [
    "df.head()"
   ]
  },
  {
   "cell_type": "code",
   "execution_count": 40,
   "metadata": {},
   "outputs": [
    {
     "data": {
      "text/plain": [
       "Index(['Manufacturer', 'Model Name', 'Category', 'Screen Size', 'Screen',\n",
       "       'CPU', 'RAM', ' Storage', 'GPU', 'Operating System',\n",
       "       'Operating System Version', 'Weight', 'Price'],\n",
       "      dtype='object')"
      ]
     },
     "execution_count": 40,
     "metadata": {},
     "output_type": "execute_result"
    }
   ],
   "source": [
    "df.columns"
   ]
  },
  {
   "cell_type": "code",
   "execution_count": 41,
   "metadata": {},
   "outputs": [
    {
     "name": "stdout",
     "output_type": "stream",
     "text": [
      "<class 'pandas.core.frame.DataFrame'>\n",
      "Index: 1302 entries, 0 to 976\n",
      "Data columns (total 13 columns):\n",
      " #   Column                    Non-Null Count  Dtype  \n",
      "---  ------                    --------------  -----  \n",
      " 0   Manufacturer              1302 non-null   object \n",
      " 1   Model Name                1302 non-null   object \n",
      " 2   Category                  1302 non-null   object \n",
      " 3   Screen Size               1302 non-null   object \n",
      " 4   Screen                    1302 non-null   object \n",
      " 5   CPU                       1302 non-null   object \n",
      " 6   RAM                       1302 non-null   object \n",
      " 7    Storage                  1302 non-null   object \n",
      " 8   GPU                       1302 non-null   object \n",
      " 9   Operating System          1302 non-null   object \n",
      " 10  Operating System Version  1132 non-null   object \n",
      " 11  Weight                    1302 non-null   object \n",
      " 12  Price                     1302 non-null   float64\n",
      "dtypes: float64(1), object(12)\n",
      "memory usage: 142.4+ KB\n"
     ]
    }
   ],
   "source": [
    "df.info()"
   ]
  },
  {
   "cell_type": "markdown",
   "metadata": {},
   "source": [
    "After conducting an overview of the dataset, I found:\n",
    "\n",
    "* The dataset includes information on 1,302 distinct laptops. Excluding the price, it contains 12 multidimensional features covering aspects such as brand, hardware, and device parameters.\n",
    "\n",
    "* The data types of these features are all `object`, which include some non-numeric values that cannot be directly used in subsequent regression predictions. This necessitates the application of feature engineering strategies, such as encoding, to process these features.\n",
    "\n",
    "* There are missing values in the `Operating System Version` column that need to be addressed."
   ]
  },
  {
   "cell_type": "markdown",
   "metadata": {},
   "source": [
    "Next, I will perform some preprocessing on the data to prepare for the subsequent feature engineering and regression prediction tasks.\n",
    "\n",
    "During the previous data overview, I noticed that the `Price` values seemed unusually high. To validate this observation, I used `.describe()` to obtain the statistics including Mean, Max and so on .\n",
    "\n",
    "Since the other columns have a data type of object, the `.describe()` method only displayed the statistics for the price column."
   ]
  },
  {
   "cell_type": "code",
   "execution_count": 42,
   "metadata": {},
   "outputs": [
    {
     "data": {
      "text/html": [
       "<div>\n",
       "<style scoped>\n",
       "    .dataframe tbody tr th:only-of-type {\n",
       "        vertical-align: middle;\n",
       "    }\n",
       "\n",
       "    .dataframe tbody tr th {\n",
       "        vertical-align: top;\n",
       "    }\n",
       "\n",
       "    .dataframe thead th {\n",
       "        text-align: right;\n",
       "    }\n",
       "</style>\n",
       "<table border=\"1\" class=\"dataframe\">\n",
       "  <thead>\n",
       "    <tr style=\"text-align: right;\">\n",
       "      <th></th>\n",
       "      <th>count</th>\n",
       "      <th>mean</th>\n",
       "      <th>std</th>\n",
       "      <th>min</th>\n",
       "      <th>25%</th>\n",
       "      <th>50%</th>\n",
       "      <th>75%</th>\n",
       "      <th>max</th>\n",
       "    </tr>\n",
       "  </thead>\n",
       "  <tbody>\n",
       "    <tr>\n",
       "      <th>Price</th>\n",
       "      <td>1302.0</td>\n",
       "      <td>9987212.68</td>\n",
       "      <td>6215745.9</td>\n",
       "      <td>1547208.0</td>\n",
       "      <td>5326308.0</td>\n",
       "      <td>8687484.0</td>\n",
       "      <td>13211978.13</td>\n",
       "      <td>54232308.0</td>\n",
       "    </tr>\n",
       "  </tbody>\n",
       "</table>\n",
       "</div>"
      ],
      "text/plain": [
       "        count        mean        std        min        25%        50%  \\\n",
       "Price  1302.0  9987212.68  6215745.9  1547208.0  5326308.0  8687484.0   \n",
       "\n",
       "               75%         max  \n",
       "Price  13211978.13  54232308.0  "
      ]
     },
     "execution_count": 42,
     "metadata": {},
     "output_type": "execute_result"
    }
   ],
   "source": [
    "df.describe().round(2).T"
   ]
  },
  {
   "cell_type": "markdown",
   "metadata": {},
   "source": [
    "I found that the values in the `Price` were indeed relatively high, which seemed somewhat unreasonable. \n",
    "\n",
    "Upon rechecking the original dataset, I discovered in the column description that the price was in `INR` (Indian Rupee).\n",
    "\n",
    "To facilitate subsequent analysis, I converted the `INR` values to `BRP` (British Pound) and processed the data accordingly."
   ]
  },
  {
   "cell_type": "code",
   "execution_count": 43,
   "metadata": {},
   "outputs": [],
   "source": [
    "# INR TO BRP \n",
    "df['Price'] = 0.0000414 * df['Price']"
   ]
  },
  {
   "cell_type": "code",
   "execution_count": 44,
   "metadata": {},
   "outputs": [
    {
     "data": {
      "text/html": [
       "<div>\n",
       "<style scoped>\n",
       "    .dataframe tbody tr th:only-of-type {\n",
       "        vertical-align: middle;\n",
       "    }\n",
       "\n",
       "    .dataframe tbody tr th {\n",
       "        vertical-align: top;\n",
       "    }\n",
       "\n",
       "    .dataframe thead th {\n",
       "        text-align: right;\n",
       "    }\n",
       "</style>\n",
       "<table border=\"1\" class=\"dataframe\">\n",
       "  <thead>\n",
       "    <tr style=\"text-align: right;\">\n",
       "      <th></th>\n",
       "      <th>count</th>\n",
       "      <th>mean</th>\n",
       "      <th>std</th>\n",
       "      <th>min</th>\n",
       "      <th>25%</th>\n",
       "      <th>50%</th>\n",
       "      <th>75%</th>\n",
       "      <th>max</th>\n",
       "    </tr>\n",
       "  </thead>\n",
       "  <tbody>\n",
       "    <tr>\n",
       "      <th>Price</th>\n",
       "      <td>1302.0</td>\n",
       "      <td>413.47</td>\n",
       "      <td>257.33</td>\n",
       "      <td>64.05</td>\n",
       "      <td>220.51</td>\n",
       "      <td>359.66</td>\n",
       "      <td>546.98</td>\n",
       "      <td>2245.22</td>\n",
       "    </tr>\n",
       "  </tbody>\n",
       "</table>\n",
       "</div>"
      ],
      "text/plain": [
       "        count    mean     std    min     25%     50%     75%      max\n",
       "Price  1302.0  413.47  257.33  64.05  220.51  359.66  546.98  2245.22"
      ]
     },
     "execution_count": 44,
     "metadata": {},
     "output_type": "execute_result"
    }
   ],
   "source": [
    "df.describe().round(2).T"
   ]
  },
  {
   "cell_type": "code",
   "execution_count": 45,
   "metadata": {},
   "outputs": [
    {
     "data": {
      "image/png": "[encoded data removed]",
      "text/plain": [
       "<Figure size 600x400 with 1 Axes>"
      ]
     },
     "metadata": {},
     "output_type": "display_data"
    }
   ],
   "source": [
    "# Price analyze\n",
    "plt.figure(figsize=(6,4))\n",
    "\n",
    "plt.hist(df['Price'],bins=10, edgecolor='k', alpha=0.7)\n",
    "plt.title(\"Price Distribution of Laptop\", fontsize=10)\n",
    "plt.xlabel(\"Price\", fontsize=10)\n",
    "plt.ylabel(\"Frequency\", fontsize=10)\n",
    "\n",
    "# Add a grid to improve readability\n",
    "plt.grid(axis='y', linestyle='--', alpha=0.7)"
   ]
  },
  {
   "cell_type": "markdown",
   "metadata": {},
   "source": [
    "At the same time, I plotted the `distribution` of the Price to visually inspect it. \n",
    "\n",
    "* The price distribution shows a noticeable right skew, with the majority of laptop prices concentrated between 0 and 500.\n",
    "\n",
    "* It appears that mid-range and low-end laptops dominate the dataset, which slightly deviates from my initial assumption."
   ]
  },
  {
   "cell_type": "markdown",
   "metadata": {},
   "source": [
    "After preprocessing and analyzing the `Price`, I focused on handling the `missing values` in the `Operating System Version` column. \n",
    "\n",
    "To determine the number of missing values, I used `.isna()` in combination with `.sum()`.\n",
    "\n",
    "Here, I chose to process the entire dataset to ensure that I didn’t overlook any missing values in other columns as well."
   ]
  },
  {
   "cell_type": "code",
   "execution_count": 46,
   "metadata": {},
   "outputs": [
    {
     "data": {
      "text/plain": [
       "Manufacturer                  0\n",
       "Model Name                    0\n",
       "Category                      0\n",
       "Screen Size                   0\n",
       "Screen                        0\n",
       "CPU                           0\n",
       "RAM                           0\n",
       " Storage                      0\n",
       "GPU                           0\n",
       "Operating System              0\n",
       "Operating System Version    170\n",
       "Weight                        0\n",
       "Price                         0\n",
       "dtype: int64"
      ]
     },
     "execution_count": 46,
     "metadata": {},
     "output_type": "execute_result"
    }
   ],
   "source": [
    "df.isna().sum()"
   ]
  },
  {
   "cell_type": "markdown",
   "metadata": {},
   "source": [
    "Generally, removing rows with missing values is a common approach, but in this case, I decided to explore other strategies for handling the missing values.\n",
    "\n",
    "I replaced the missing values in the `Operating System Version` column with the string `Missing` and then plotted a chart to visualize the frequency of each category within this feature."
   ]
  },
  {
   "cell_type": "code",
   "execution_count": 47,
   "metadata": {},
   "outputs": [
    {
     "data": {
      "text/plain": [
       "<Axes: xlabel='Operating System Version', ylabel='count'>"
      ]
     },
     "execution_count": 47,
     "metadata": {},
     "output_type": "execute_result"
    },
    {
     "data": {
      "image/png": "[encoded data removed]",
      "text/plain": [
       "<Figure size 600x400 with 1 Axes>"
      ]
     },
     "metadata": {},
     "output_type": "display_data"
    }
   ],
   "source": [
    "df[\"Operating System Version\"] = df[\"Operating System Version\"].fillna(\"Missing\")\n",
    "\n",
    "plt.figure(figsize=(6, 4))\n",
    "sns.countplot(data=df, x=\"Operating System Version\")"
   ]
  },
  {
   "cell_type": "markdown",
   "metadata": {},
   "source": [
    "* The number of \"Missing\" values is still relatively high, even surpassing all other categories except for the \"10\" category. Removing this portion of the data may not be the most appropriate approach.\n",
    "\n",
    "* The frequencies of the other categories are quite low, with most of the data concentrated in the \"10\" category.\n",
    "\n",
    "* Given this, I am considering using the `mode` (the most frequent value) to fill in the missing values."
   ]
  },
  {
   "cell_type": "code",
   "execution_count": 48,
   "metadata": {},
   "outputs": [
    {
     "data": {
      "text/plain": [
       "<Axes: xlabel='Operating System Version', ylabel='count'>"
      ]
     },
     "execution_count": 48,
     "metadata": {},
     "output_type": "execute_result"
    },
    {
     "data": {
      "image/png": "[encoded data removed]",
      "text/plain": [
       "<Figure size 600x400 with 1 Axes>"
      ]
     },
     "metadata": {},
     "output_type": "display_data"
    }
   ],
   "source": [
    "mode_value = df['Operating System Version'].mode()[0]\n",
    "df[\"Operating System Version\"] = df[\"Operating System Version\"].replace('Missing', mode_value)\n",
    "\n",
    "plt.figure(figsize=(6, 4))\n",
    "sns.countplot(data=df, x=\"Operating System Version\")"
   ]
  },
  {
   "cell_type": "markdown",
   "metadata": {},
   "source": [
    "## 3. Feature Engineering\n",
    "\n",
    "From the analysis above, I found that most of the features are of the `object` type, which is not ideal for model training.\n",
    "\n",
    "In this phase, I will categorize the features into different types and apply appropriate processing strategies and encoding methods for `numerical` values, `non-numerical` values, `ordinal` variables, and `nominal` variables.\n",
    "\n",
    "First, I will examine the `unique` values of each feature to better understand their meanings and patterns."
   ]
  },
  {
   "cell_type": "code",
   "execution_count": 49,
   "metadata": {},
   "outputs": [
    {
     "name": "stdout",
     "output_type": "stream",
     "text": [
      "Manufacturer\n",
      "first five unique values: ['HP' 'Asus' 'Dell' 'Toshiba' 'Lenovo']\n",
      "Number of unique values: 19\n",
      "\n",
      "Model Name\n",
      "first five unique values: ['15-bs053od (i7-7500U/6GB/1TB/W10)' 'Rog GL753VE-DS74' 'Inspiron 7579'\n",
      " 'Portege Z30-C-1CV' 'IdeaPad 320-15ABR']\n",
      "Number of unique values: 617\n",
      "\n",
      "Category\n",
      "first five unique values: ['Notebook' 'Gaming' '2 in 1 Convertible' 'Netbook' 'Ultrabook']\n",
      "Number of unique values: 6\n",
      "\n",
      "Screen Size\n",
      "first five unique values: ['15.6\"' '17.3\"' '13.3\"' '14.0\"' '12.5\"']\n",
      "Number of unique values: 18\n",
      "\n",
      "Screen\n",
      "first five unique values: ['1366x768' 'Full HD 1920x1080'\n",
      " 'IPS Panel Full HD / Touchscreen 1920x1080' 'IPS Panel Full HD 1920x1080'\n",
      " 'Full HD / Touchscreen 1920x1080']\n",
      "Number of unique values: 40\n",
      "\n",
      "CPU\n",
      "first five unique values: ['Intel Core i7 7500U 2.7GHz' 'Intel Core i7 7700HQ 2.8GHz'\n",
      " 'Intel Core i5 6200U 2.3GHz' 'AMD A12-Series 9720P 3.6GHz'\n",
      " 'Intel Core i5 7200U 2.5GHz']\n",
      "Number of unique values: 118\n",
      "\n",
      "RAM\n",
      "first five unique values: ['6GB' '16GB' '12GB' '4GB' '8GB']\n",
      "Number of unique values: 9\n",
      "\n",
      " Storage\n",
      "first five unique values: ['1TB HDD' '256GB SSD +  1TB HDD' '512GB SSD' '128GB SSD' '256GB SSD']\n",
      "Number of unique values: 38\n",
      "\n",
      "GPU\n",
      "first five unique values: ['Intel HD Graphics 620' 'Nvidia GeForce GTX 1050 Ti'\n",
      " 'Intel HD Graphics 520' 'AMD Radeon 530' 'AMD Radeon R5 M430']\n",
      "Number of unique values: 110\n",
      "\n",
      "Operating System\n",
      "first five unique values: ['Windows' 'No OS' 'Chrome OS' 'Mac OS' 'Linux']\n",
      "Number of unique values: 7\n",
      "\n",
      "Operating System Version\n",
      "first five unique values: ['10' '7' 'X' '10 S']\n",
      "Number of unique values: 4\n",
      "\n",
      "Weight\n",
      "first five unique values: ['2.04kg' '2.99kg' '2.19kg' '1.2kg' '2.2kg']\n",
      "Number of unique values: 179\n",
      "\n",
      "Price\n",
      "first five unique values: [213.15 643.86 478.2  439.91 202.1 ]\n",
      "Number of unique values: 791\n",
      "\n"
     ]
    }
   ],
   "source": [
    "for col in df.columns:\n",
    "    print(col)\n",
    "    print(f'first five unique values: {df[col].unique()[0:5]}')\n",
    "    print(f'Number of unique values: {df[col].nunique()}\\n')"
   ]
  },
  {
   "cell_type": "markdown",
   "metadata": {},
   "source": [
    "* It is clear that features such as `Manufacturer` and `Category`, which have categorical meaning, cannot be directly processed, and Encoding is a suitable approach for handling them.\n",
    "\n",
    "* For features like `Weight` and `Screen Size`, which are numerical values but have been converted to the object type due to the presence of characters in the data.\n",
    "\n",
    "* The `Operation System` column contains Mac OS and macOS, which in fact have the same meaning.\n",
    "\n",
    "* For these features (`Weight`), I plan to use methods like `regex` to remove the non-numeric characters. After cleaning the data, I will convert these features back into float type to prepare them for the subsequent regression prediction."
   ]
  },
  {
   "cell_type": "code",
   "execution_count": 50,
   "metadata": {},
   "outputs": [
    {
     "name": "stderr",
     "output_type": "stream",
     "text": [
      "C:\\Users\\lenovo\\AppData\\Local\\Temp\\ipykernel_10684\\3895566880.py:1: FutureWarning: A value is trying to be set on a copy of a DataFrame or Series through chained assignment using an inplace method.\n",
      "The behavior will change in pandas 3.0. This inplace method will never work because the intermediate object on which we are setting values always behaves as a copy.\n",
      "\n",
      "For example, when doing 'df[col].method(value, inplace=True)', try using 'df.method({col: value}, inplace=True)' or df[col] = df[col].method(value) instead, to perform the operation inplace on the original object.\n",
      "\n",
      "\n",
      "  df['Weight'].replace(to_replace='kg', value='', regex=True, inplace=True)\n",
      "C:\\Users\\lenovo\\AppData\\Local\\Temp\\ipykernel_10684\\3895566880.py:2: FutureWarning: A value is trying to be set on a copy of a DataFrame or Series through chained assignment using an inplace method.\n",
      "The behavior will change in pandas 3.0. This inplace method will never work because the intermediate object on which we are setting values always behaves as a copy.\n",
      "\n",
      "For example, when doing 'df[col].method(value, inplace=True)', try using 'df.method({col: value}, inplace=True)' or df[col] = df[col].method(value) instead, to perform the operation inplace on the original object.\n",
      "\n",
      "\n",
      "  df['Weight'].replace(to_replace='s', value='', regex=True, inplace=True)\n"
     ]
    }
   ],
   "source": [
    "df['Weight'].replace(to_replace='kg', value='', regex=True, inplace=True)\n",
    "df['Weight'].replace(to_replace='s', value='', regex=True, inplace=True)"
   ]
  },
  {
   "cell_type": "code",
   "execution_count": 51,
   "metadata": {},
   "outputs": [],
   "source": [
    "df['Weight'] = df['Weight'].astype(\"float64\")"
   ]
  },
  {
   "cell_type": "code",
   "execution_count": 52,
   "metadata": {},
   "outputs": [
    {
     "data": {
      "text/plain": [
       "Manufacturer                 object\n",
       "Model Name                   object\n",
       "Category                     object\n",
       "Screen Size                  object\n",
       "Screen                       object\n",
       "CPU                          object\n",
       "RAM                          object\n",
       " Storage                     object\n",
       "GPU                          object\n",
       "Operating System             object\n",
       "Operating System Version     object\n",
       "Weight                      float64\n",
       "Price                       float64\n",
       "dtype: object"
      ]
     },
     "execution_count": 52,
     "metadata": {},
     "output_type": "execute_result"
    }
   ],
   "source": [
    "df.dtypes"
   ]
  },
  {
   "cell_type": "code",
   "execution_count": 53,
   "metadata": {},
   "outputs": [
    {
     "data": {
      "text/plain": [
       "0      15.6\n",
       "1      17.3\n",
       "2      15.6\n",
       "3      13.3\n",
       "4      15.6\n",
       "       ... \n",
       "972    17.3\n",
       "973    14.0\n",
       "974    17.3\n",
       "975    15.6\n",
       "976    14.0\n",
       "Name: Screen Size, Length: 1302, dtype: float64"
      ]
     },
     "execution_count": 53,
     "metadata": {},
     "output_type": "execute_result"
    }
   ],
   "source": [
    "df['Screen Size'] = df['Screen Size'].str.extract('(\\d+\\.?\\d*)').astype(float)\n",
    "df['RAM'] = df['RAM'].str.extract(r'(\\d+)').astype(float)\n",
    "df['Screen Size']"
   ]
  },
  {
   "cell_type": "markdown",
   "metadata": {},
   "source": [
    "The \"Operating System\" feature contains two distinct values, `Mac OS` and `macOS`, which have the same meaning. \n",
    "\n",
    "I decided to merge these two values into a single value."
   ]
  },
  {
   "cell_type": "code",
   "execution_count": 54,
   "metadata": {},
   "outputs": [
    {
     "data": {
      "text/plain": [
       "array(['Windows', 'No OS', 'Chrome OS', 'Mac OS', 'Linux', 'Android',\n",
       "       'macOS'], dtype=object)"
      ]
     },
     "execution_count": 54,
     "metadata": {},
     "output_type": "execute_result"
    }
   ],
   "source": [
    "df[\"Operating System\"].unique()"
   ]
  },
  {
   "cell_type": "code",
   "execution_count": 55,
   "metadata": {},
   "outputs": [],
   "source": [
    "df['Operating System'] = df['Operating System'].replace('mac OS', 'Mac OS')"
   ]
  },
  {
   "cell_type": "code",
   "execution_count": 56,
   "metadata": {},
   "outputs": [
    {
     "data": {
      "text/plain": [
       "array(['Windows', 'No OS', 'Chrome OS', 'Mac OS', 'Linux', 'Android',\n",
       "       'macOS'], dtype=object)"
      ]
     },
     "execution_count": 56,
     "metadata": {},
     "output_type": "execute_result"
    }
   ],
   "source": [
    "df[\"Operating System\"].unique()"
   ]
  },
  {
   "cell_type": "markdown",
   "metadata": {},
   "source": [
    "For other features where the strings in the data carry meaningful information, It's not a good choice to simply remove them. Therefore, I chose to apply encoding strategies for processing.\n",
    "\n",
    "These categorical variables can be divided into `ordinal` and `Nominal` variables. For each type, I decided to use `one-hot encoding` for `Nominal` variables and `label encoding` for `ordinal` variables. I hope this encoding approach will improve the model's training accuracy.\n",
    "\n",
    "However, after categorizing the features and applying encoding separately, my device could not handle the operation. This is because the principle of `one-hot encoding` is that the encoded values are 0 or 1, but when the number of categories is large, the `feature space` expands significantly.\n",
    "\n",
    "As a result, I chose to apply one-hot encoding to only some of the Nominal variables and used label encoding for the remaining variables."
   ]
  },
  {
   "cell_type": "code",
   "execution_count": 57,
   "metadata": {},
   "outputs": [
    {
     "data": {
      "text/html": [
       "<div>\n",
       "<style scoped>\n",
       "    .dataframe tbody tr th:only-of-type {\n",
       "        vertical-align: middle;\n",
       "    }\n",
       "\n",
       "    .dataframe tbody tr th {\n",
       "        vertical-align: top;\n",
       "    }\n",
       "\n",
       "    .dataframe thead th {\n",
       "        text-align: right;\n",
       "    }\n",
       "</style>\n",
       "<table border=\"1\" class=\"dataframe\">\n",
       "  <thead>\n",
       "    <tr style=\"text-align: right;\">\n",
       "      <th></th>\n",
       "      <th>Screen Size</th>\n",
       "      <th>Screen</th>\n",
       "      <th>CPU</th>\n",
       "      <th>RAM</th>\n",
       "      <th>Storage</th>\n",
       "      <th>GPU</th>\n",
       "      <th>Operating System</th>\n",
       "      <th>Operating System Version</th>\n",
       "      <th>Weight</th>\n",
       "      <th>Price</th>\n",
       "      <th>...</th>\n",
       "      <th>Model Name_ZenBook UX430UN</th>\n",
       "      <th>Model Name_ZenBook UX510UX-CN211T</th>\n",
       "      <th>Model Name_ZenBook UX530UQ-PRO</th>\n",
       "      <th>Model Name_Zenbook 3</th>\n",
       "      <th>Model Name_Zenbook Flip</th>\n",
       "      <th>Model Name_Zenbook UX330UA-AH5Q</th>\n",
       "      <th>Model Name_Zenbook UX390UA</th>\n",
       "      <th>Model Name_Zenbook UX410UA-GV027T</th>\n",
       "      <th>Model Name_Zenbook UX430UA</th>\n",
       "      <th>Model Name_Zenbook UX510UW-FI095T</th>\n",
       "    </tr>\n",
       "  </thead>\n",
       "  <tbody>\n",
       "    <tr>\n",
       "      <th>0</th>\n",
       "      <td>15.6</td>\n",
       "      <td>0</td>\n",
       "      <td>97</td>\n",
       "      <td>6.0</td>\n",
       "      <td>8</td>\n",
       "      <td>53</td>\n",
       "      <td>5</td>\n",
       "      <td>0</td>\n",
       "      <td>2.04</td>\n",
       "      <td>213.146575</td>\n",
       "      <td>...</td>\n",
       "      <td>False</td>\n",
       "      <td>False</td>\n",
       "      <td>False</td>\n",
       "      <td>False</td>\n",
       "      <td>False</td>\n",
       "      <td>False</td>\n",
       "      <td>False</td>\n",
       "      <td>False</td>\n",
       "      <td>False</td>\n",
       "      <td>False</td>\n",
       "    </tr>\n",
       "    <tr>\n",
       "      <th>1</th>\n",
       "      <td>17.3</td>\n",
       "      <td>8</td>\n",
       "      <td>102</td>\n",
       "      <td>16.0</td>\n",
       "      <td>16</td>\n",
       "      <td>76</td>\n",
       "      <td>5</td>\n",
       "      <td>0</td>\n",
       "      <td>2.99</td>\n",
       "      <td>643.857271</td>\n",
       "      <td>...</td>\n",
       "      <td>False</td>\n",
       "      <td>False</td>\n",
       "      <td>False</td>\n",
       "      <td>False</td>\n",
       "      <td>False</td>\n",
       "      <td>False</td>\n",
       "      <td>False</td>\n",
       "      <td>False</td>\n",
       "      <td>False</td>\n",
       "      <td>False</td>\n",
       "    </tr>\n",
       "    <tr>\n",
       "      <th>2</th>\n",
       "      <td>15.6</td>\n",
       "      <td>13</td>\n",
       "      <td>97</td>\n",
       "      <td>12.0</td>\n",
       "      <td>28</td>\n",
       "      <td>53</td>\n",
       "      <td>5</td>\n",
       "      <td>0</td>\n",
       "      <td>2.19</td>\n",
       "      <td>478.199311</td>\n",
       "      <td>...</td>\n",
       "      <td>False</td>\n",
       "      <td>False</td>\n",
       "      <td>False</td>\n",
       "      <td>False</td>\n",
       "      <td>False</td>\n",
       "      <td>False</td>\n",
       "      <td>False</td>\n",
       "      <td>False</td>\n",
       "      <td>False</td>\n",
       "      <td>False</td>\n",
       "    </tr>\n",
       "    <tr>\n",
       "      <th>3</th>\n",
       "      <td>13.3</td>\n",
       "      <td>8</td>\n",
       "      <td>68</td>\n",
       "      <td>4.0</td>\n",
       "      <td>2</td>\n",
       "      <td>47</td>\n",
       "      <td>5</td>\n",
       "      <td>2</td>\n",
       "      <td>1.20</td>\n",
       "      <td>439.913916</td>\n",
       "      <td>...</td>\n",
       "      <td>False</td>\n",
       "      <td>False</td>\n",
       "      <td>False</td>\n",
       "      <td>False</td>\n",
       "      <td>False</td>\n",
       "      <td>False</td>\n",
       "      <td>False</td>\n",
       "      <td>False</td>\n",
       "      <td>False</td>\n",
       "      <td>False</td>\n",
       "    </tr>\n",
       "    <tr>\n",
       "      <th>4</th>\n",
       "      <td>15.6</td>\n",
       "      <td>8</td>\n",
       "      <td>5</td>\n",
       "      <td>6.0</td>\n",
       "      <td>15</td>\n",
       "      <td>7</td>\n",
       "      <td>5</td>\n",
       "      <td>0</td>\n",
       "      <td>2.20</td>\n",
       "      <td>202.102711</td>\n",
       "      <td>...</td>\n",
       "      <td>False</td>\n",
       "      <td>False</td>\n",
       "      <td>False</td>\n",
       "      <td>False</td>\n",
       "      <td>False</td>\n",
       "      <td>False</td>\n",
       "      <td>False</td>\n",
       "      <td>False</td>\n",
       "      <td>False</td>\n",
       "      <td>False</td>\n",
       "    </tr>\n",
       "  </tbody>\n",
       "</table>\n",
       "<p>5 rows × 652 columns</p>\n",
       "</div>"
      ],
      "text/plain": [
       "   Screen Size  Screen  CPU   RAM   Storage  GPU  Operating System  \\\n",
       "0         15.6       0   97   6.0         8   53                 5   \n",
       "1         17.3       8  102  16.0        16   76                 5   \n",
       "2         15.6      13   97  12.0        28   53                 5   \n",
       "3         13.3       8   68   4.0         2   47                 5   \n",
       "4         15.6       8    5   6.0        15    7                 5   \n",
       "\n",
       "   Operating System Version  Weight       Price  ...  \\\n",
       "0                         0    2.04  213.146575  ...   \n",
       "1                         0    2.99  643.857271  ...   \n",
       "2                         0    2.19  478.199311  ...   \n",
       "3                         2    1.20  439.913916  ...   \n",
       "4                         0    2.20  202.102711  ...   \n",
       "\n",
       "   Model Name_ZenBook UX430UN  Model Name_ZenBook UX510UX-CN211T  \\\n",
       "0                       False                              False   \n",
       "1                       False                              False   \n",
       "2                       False                              False   \n",
       "3                       False                              False   \n",
       "4                       False                              False   \n",
       "\n",
       "   Model Name_ZenBook UX530UQ-PRO  Model Name_Zenbook 3  \\\n",
       "0                           False                 False   \n",
       "1                           False                 False   \n",
       "2                           False                 False   \n",
       "3                           False                 False   \n",
       "4                           False                 False   \n",
       "\n",
       "   Model Name_Zenbook Flip  Model Name_Zenbook UX330UA-AH5Q  \\\n",
       "0                    False                            False   \n",
       "1                    False                            False   \n",
       "2                    False                            False   \n",
       "3                    False                            False   \n",
       "4                    False                            False   \n",
       "\n",
       "   Model Name_Zenbook UX390UA  Model Name_Zenbook UX410UA-GV027T  \\\n",
       "0                       False                              False   \n",
       "1                       False                              False   \n",
       "2                       False                              False   \n",
       "3                       False                              False   \n",
       "4                       False                              False   \n",
       "\n",
       "   Model Name_Zenbook UX430UA  Model Name_Zenbook UX510UW-FI095T  \n",
       "0                       False                              False  \n",
       "1                       False                              False  \n",
       "2                       False                              False  \n",
       "3                       False                              False  \n",
       "4                       False                              False  \n",
       "\n",
       "[5 rows x 652 columns]"
      ]
     },
     "execution_count": 57,
     "metadata": {},
     "output_type": "execute_result"
    }
   ],
   "source": [
    "le = LabelEncoder()\n",
    "\n",
    "# One-Hot Encoding\n",
    "df = pd.concat([df, pd.get_dummies(df[\"Manufacturer\"], prefix=\"Manufacturer\")], axis=1)\n",
    "df = df.drop(\"Manufacturer\", axis=1)\n",
    "df = pd.concat([df, pd.get_dummies(df[\"Category\"], prefix=\"Category\")], axis=1)\n",
    "df = df.drop(\"Category\", axis=1)\n",
    "df = pd.concat([df, pd.get_dummies(df[\"Model Name\"], prefix=\"Model Name\")], axis=1)\n",
    "df = df.drop(\"Model Name\", axis=1)\n",
    "\n",
    "# df[\"Manufacturer\"] = le.fit_transform(df[\"Manufacturer\"])\n",
    "# df[\"Model Name\"] = le.fit_transform(df[\"Model Name\"])\n",
    "# df[\"Category\"] = le.fit_transform(df[\"Category\"])\n",
    "df[\"Screen\"] = le.fit_transform(df[\"Screen\"])\n",
    "df[\"CPU\"] = le.fit_transform(df[\"CPU\"])\n",
    "df[\" Storage\"] = le.fit_transform(df[\" Storage\"])\n",
    "df[\"GPU\"] = le.fit_transform(df[\"GPU\"])\n",
    "df[\"Operating System\"] = le.fit_transform(df[\"Operating System\"])\n",
    "df[\"Operating System Version\"] = le.fit_transform(df[\"Operating System Version\"])\n",
    "\n",
    "df.head()\n"
   ]
  },
  {
   "cell_type": "markdown",
   "metadata": {},
   "source": [
    "Correlation measures the strength and direction of the relationship between two variables, and it can help guide better feature selection. \n",
    "\n",
    "However, because `one-hot encoding` generates a large number of feature spaces, it is not suitable to visualize using a `heatmap`.\n",
    "\n",
    "Here, I used `df.corr()` to examine the correlation between the price and other features. I found that the correlation between price and \"Screen Size\" is relatively low. \n",
    "\n",
    "As a result, I plan to exclude this feature in the subsequent training process."
   ]
  },
  {
   "cell_type": "code",
   "execution_count": 58,
   "metadata": {},
   "outputs": [
    {
     "data": {
      "text/plain": [
       "Screen Size                          0.067922\n",
       "Screen                               0.331881\n",
       "CPU                                  0.529062\n",
       "RAM                                  0.742802\n",
       " Storage                             0.182749\n",
       "                                       ...   \n",
       "Model Name_Zenbook UX330UA-AH5Q      0.000231\n",
       "Model Name_Zenbook UX390UA           0.032806\n",
       "Model Name_Zenbook UX410UA-GV027T   -0.007069\n",
       "Model Name_Zenbook UX430UA          -0.002943\n",
       "Model Name_Zenbook UX510UW-FI095T    0.006976\n",
       "Name: Price, Length: 652, dtype: float64"
      ]
     },
     "execution_count": 58,
     "metadata": {},
     "output_type": "execute_result"
    }
   ],
   "source": [
    "# plt.figure(figsize=(12,10)) \n",
    "# p=sns.heatmap(df.corr(), annot=True,cmap ='RdYlGn')\n",
    "df.corr()['Price']\n",
    "# some other way to choose features"
   ]
  },
  {
   "cell_type": "markdown",
   "metadata": {},
   "source": [
    "## 4. Regression Model Train\n",
    "\n",
    "In this phase, I selected appropriate features and trained several regression models. \n",
    "\n",
    "Additionally, I ploted the `predicted` values against the `actual` values to visually assess the model's performance.\n",
    "\n",
    "Ultimately, my goal is to obtain a regression model with a high level of accuracy, which can help users predict laptop prices effectively."
   ]
  },
  {
   "cell_type": "markdown",
   "metadata": {},
   "source": [
    "First, I chose to exclude the \"Screen Size\" feature and proceeded with `standardizing` the remaining features. \n",
    "\n",
    "Afterward, I split the dataset back into `training` and `testing` subsets for the subsequent model training."
   ]
  },
  {
   "cell_type": "code",
   "execution_count": 59,
   "metadata": {},
   "outputs": [],
   "source": [
    "x = df.drop(columns=[\"Price\",'Screen Size']).values\n",
    "y = df.loc[:, \"Price\"].values\n",
    "y = y.reshape(-1, 1)"
   ]
  },
  {
   "cell_type": "code",
   "execution_count": 60,
   "metadata": {},
   "outputs": [],
   "source": [
    "from sklearn.preprocessing import StandardScaler\n",
    "sc_x = StandardScaler()\n",
    "sc_y = StandardScaler()\n",
    "x = sc_x.fit_transform(x)\n",
    "y = sc_y.fit_transform(y)"
   ]
  },
  {
   "cell_type": "code",
   "execution_count": 61,
   "metadata": {},
   "outputs": [],
   "source": [
    "from sklearn.model_selection import train_test_split\n",
    "x_train, x_test, y_train, y_test = train_test_split(x, y, test_size = 0.2, random_state = 0)"
   ]
  },
  {
   "cell_type": "markdown",
   "metadata": {},
   "source": [
    "In terms of regression model selection, I first attempted to use `Multiple Linear Regression` for the prediction."
   ]
  },
  {
   "cell_type": "code",
   "execution_count": 62,
   "metadata": {},
   "outputs": [
    {
     "data": {
      "text/html": [
       "<style>#sk-container-id-2 {\n",
       "  /* Definition of color scheme common for light and dark mode */\n",
       "  --sklearn-color-text: #000;\n",
       "  --sklearn-color-text-muted: #666;\n",
       "  --sklearn-color-line: gray;\n",
       "  /* Definition of color scheme for unfitted estimators */\n",
       "  --sklearn-color-unfitted-level-0: #fff5e6;\n",
       "  --sklearn-color-unfitted-level-1: #f6e4d2;\n",
       "  --sklearn-color-unfitted-level-2: #ffe0b3;\n",
       "  --sklearn-color-unfitted-level-3: chocolate;\n",
       "  /* Definition of color scheme for fitted estimators */\n",
       "  --sklearn-color-fitted-level-0: #f0f8ff;\n",
       "  --sklearn-color-fitted-level-1: #d4ebff;\n",
       "  --sklearn-color-fitted-level-2: #b3dbfd;\n",
       "  --sklearn-color-fitted-level-3: cornflowerblue;\n",
       "\n",
       "  /* Specific color for light theme */\n",
       "  --sklearn-color-text-on-default-background: var(--sg-text-color, var(--theme-code-foreground, var(--jp-content-font-color1, black)));\n",
       "  --sklearn-color-background: var(--sg-background-color, var(--theme-background, var(--jp-layout-color0, white)));\n",
       "  --sklearn-color-border-box: var(--sg-text-color, var(--theme-code-foreground, var(--jp-content-font-color1, black)));\n",
       "  --sklearn-color-icon: #696969;\n",
       "\n",
       "  @media (prefers-color-scheme: dark) {\n",
       "    /* Redefinition of color scheme for dark theme */\n",
       "    --sklearn-color-text-on-default-background: var(--sg-text-color, var(--theme-code-foreground, var(--jp-content-font-color1, white)));\n",
       "    --sklearn-color-background: var(--sg-background-color, var(--theme-background, var(--jp-layout-color0, #111)));\n",
       "    --sklearn-color-border-box: var(--sg-text-color, var(--theme-code-foreground, var(--jp-content-font-color1, white)));\n",
       "    --sklearn-color-icon: #878787;\n",
       "  }\n",
       "}\n",
       "\n",
       "#sk-container-id-2 {\n",
       "  color: var(--sklearn-color-text);\n",
       "}\n",
       "\n",
       "#sk-container-id-2 pre {\n",
       "  padding: 0;\n",
       "}\n",
       "\n",
       "#sk-container-id-2 input.sk-hidden--visually {\n",
       "  border: 0;\n",
       "  clip: rect(1px 1px 1px 1px);\n",
       "  clip: rect(1px, 1px, 1px, 1px);\n",
       "  height: 1px;\n",
       "  margin: -1px;\n",
       "  overflow: hidden;\n",
       "  padding: 0;\n",
       "  position: absolute;\n",
       "  width: 1px;\n",
       "}\n",
       "\n",
       "#sk-container-id-2 div.sk-dashed-wrapped {\n",
       "  border: 1px dashed var(--sklearn-color-line);\n",
       "  margin: 0 0.4em 0.5em 0.4em;\n",
       "  box-sizing: border-box;\n",
       "  padding-bottom: 0.4em;\n",
       "  background-color: var(--sklearn-color-background);\n",
       "}\n",
       "\n",
       "#sk-container-id-2 div.sk-container {\n",
       "  /* jupyter's `normalize.less` sets `[hidden] { display: none; }`\n",
       "     but bootstrap.min.css set `[hidden] { display: none !important; }`\n",
       "     so we also need the `!important` here to be able to override the\n",
       "     default hidden behavior on the sphinx rendered scikit-learn.org.\n",
       "     See: https://github.com/scikit-learn/scikit-learn/issues/21755 */\n",
       "  display: inline-block !important;\n",
       "  position: relative;\n",
       "}\n",
       "\n",
       "#sk-container-id-2 div.sk-text-repr-fallback {\n",
       "  display: none;\n",
       "}\n",
       "\n",
       "div.sk-parallel-item,\n",
       "div.sk-serial,\n",
       "div.sk-item {\n",
       "  /* draw centered vertical line to link estimators */\n",
       "  background-image: linear-gradient(var(--sklearn-color-text-on-default-background), var(--sklearn-color-text-on-default-background));\n",
       "  background-size: 2px 100%;\n",
       "  background-repeat: no-repeat;\n",
       "  background-position: center center;\n",
       "}\n",
       "\n",
       "/* Parallel-specific style estimator block */\n",
       "\n",
       "#sk-container-id-2 div.sk-parallel-item::after {\n",
       "  content: \"\";\n",
       "  width: 100%;\n",
       "  border-bottom: 2px solid var(--sklearn-color-text-on-default-background);\n",
       "  flex-grow: 1;\n",
       "}\n",
       "\n",
       "#sk-container-id-2 div.sk-parallel {\n",
       "  display: flex;\n",
       "  align-items: stretch;\n",
       "  justify-content: center;\n",
       "  background-color: var(--sklearn-color-background);\n",
       "  position: relative;\n",
       "}\n",
       "\n",
       "#sk-container-id-2 div.sk-parallel-item {\n",
       "  display: flex;\n",
       "  flex-direction: column;\n",
       "}\n",
       "\n",
       "#sk-container-id-2 div.sk-parallel-item:first-child::after {\n",
       "  align-self: flex-end;\n",
       "  width: 50%;\n",
       "}\n",
       "\n",
       "#sk-container-id-2 div.sk-parallel-item:last-child::after {\n",
       "  align-self: flex-start;\n",
       "  width: 50%;\n",
       "}\n",
       "\n",
       "#sk-container-id-2 div.sk-parallel-item:only-child::after {\n",
       "  width: 0;\n",
       "}\n",
       "\n",
       "/* Serial-specific style estimator block */\n",
       "\n",
       "#sk-container-id-2 div.sk-serial {\n",
       "  display: flex;\n",
       "  flex-direction: column;\n",
       "  align-items: center;\n",
       "  background-color: var(--sklearn-color-background);\n",
       "  padding-right: 1em;\n",
       "  padding-left: 1em;\n",
       "}\n",
       "\n",
       "\n",
       "/* Toggleable style: style used for estimator/Pipeline/ColumnTransformer box that is\n",
       "clickable and can be expanded/collapsed.\n",
       "- Pipeline and ColumnTransformer use this feature and define the default style\n",
       "- Estimators will overwrite some part of the style using the `sk-estimator` class\n",
       "*/\n",
       "\n",
       "/* Pipeline and ColumnTransformer style (default) */\n",
       "\n",
       "#sk-container-id-2 div.sk-toggleable {\n",
       "  /* Default theme specific background. It is overwritten whether we have a\n",
       "  specific estimator or a Pipeline/ColumnTransformer */\n",
       "  background-color: var(--sklearn-color-background);\n",
       "}\n",
       "\n",
       "/* Toggleable label */\n",
       "#sk-container-id-2 label.sk-toggleable__label {\n",
       "  cursor: pointer;\n",
       "  display: flex;\n",
       "  width: 100%;\n",
       "  margin-bottom: 0;\n",
       "  padding: 0.5em;\n",
       "  box-sizing: border-box;\n",
       "  text-align: center;\n",
       "  align-items: start;\n",
       "  justify-content: space-between;\n",
       "  gap: 0.5em;\n",
       "}\n",
       "\n",
       "#sk-container-id-2 label.sk-toggleable__label .caption {\n",
       "  font-size: 0.6rem;\n",
       "  font-weight: lighter;\n",
       "  color: var(--sklearn-color-text-muted);\n",
       "}\n",
       "\n",
       "#sk-container-id-2 label.sk-toggleable__label-arrow:before {\n",
       "  /* Arrow on the left of the label */\n",
       "  content: \"▸\";\n",
       "  float: left;\n",
       "  margin-right: 0.25em;\n",
       "  color: var(--sklearn-color-icon);\n",
       "}\n",
       "\n",
       "#sk-container-id-2 label.sk-toggleable__label-arrow:hover:before {\n",
       "  color: var(--sklearn-color-text);\n",
       "}\n",
       "\n",
       "/* Toggleable content - dropdown */\n",
       "\n",
       "#sk-container-id-2 div.sk-toggleable__content {\n",
       "  max-height: 0;\n",
       "  max-width: 0;\n",
       "  overflow: hidden;\n",
       "  text-align: left;\n",
       "  /* unfitted */\n",
       "  background-color: var(--sklearn-color-unfitted-level-0);\n",
       "}\n",
       "\n",
       "#sk-container-id-2 div.sk-toggleable__content.fitted {\n",
       "  /* fitted */\n",
       "  background-color: var(--sklearn-color-fitted-level-0);\n",
       "}\n",
       "\n",
       "#sk-container-id-2 div.sk-toggleable__content pre {\n",
       "  margin: 0.2em;\n",
       "  border-radius: 0.25em;\n",
       "  color: var(--sklearn-color-text);\n",
       "  /* unfitted */\n",
       "  background-color: var(--sklearn-color-unfitted-level-0);\n",
       "}\n",
       "\n",
       "#sk-container-id-2 div.sk-toggleable__content.fitted pre {\n",
       "  /* unfitted */\n",
       "  background-color: var(--sklearn-color-fitted-level-0);\n",
       "}\n",
       "\n",
       "#sk-container-id-2 input.sk-toggleable__control:checked~div.sk-toggleable__content {\n",
       "  /* Expand drop-down */\n",
       "  max-height: 200px;\n",
       "  max-width: 100%;\n",
       "  overflow: auto;\n",
       "}\n",
       "\n",
       "#sk-container-id-2 input.sk-toggleable__control:checked~label.sk-toggleable__label-arrow:before {\n",
       "  content: \"▾\";\n",
       "}\n",
       "\n",
       "/* Pipeline/ColumnTransformer-specific style */\n",
       "\n",
       "#sk-container-id-2 div.sk-label input.sk-toggleable__control:checked~label.sk-toggleable__label {\n",
       "  color: var(--sklearn-color-text);\n",
       "  background-color: var(--sklearn-color-unfitted-level-2);\n",
       "}\n",
       "\n",
       "#sk-container-id-2 div.sk-label.fitted input.sk-toggleable__control:checked~label.sk-toggleable__label {\n",
       "  background-color: var(--sklearn-color-fitted-level-2);\n",
       "}\n",
       "\n",
       "/* Estimator-specific style */\n",
       "\n",
       "/* Colorize estimator box */\n",
       "#sk-container-id-2 div.sk-estimator input.sk-toggleable__control:checked~label.sk-toggleable__label {\n",
       "  /* unfitted */\n",
       "  background-color: var(--sklearn-color-unfitted-level-2);\n",
       "}\n",
       "\n",
       "#sk-container-id-2 div.sk-estimator.fitted input.sk-toggleable__control:checked~label.sk-toggleable__label {\n",
       "  /* fitted */\n",
       "  background-color: var(--sklearn-color-fitted-level-2);\n",
       "}\n",
       "\n",
       "#sk-container-id-2 div.sk-label label.sk-toggleable__label,\n",
       "#sk-container-id-2 div.sk-label label {\n",
       "  /* The background is the default theme color */\n",
       "  color: var(--sklearn-color-text-on-default-background);\n",
       "}\n",
       "\n",
       "/* On hover, darken the color of the background */\n",
       "#sk-container-id-2 div.sk-label:hover label.sk-toggleable__label {\n",
       "  color: var(--sklearn-color-text);\n",
       "  background-color: var(--sklearn-color-unfitted-level-2);\n",
       "}\n",
       "\n",
       "/* Label box, darken color on hover, fitted */\n",
       "#sk-container-id-2 div.sk-label.fitted:hover label.sk-toggleable__label.fitted {\n",
       "  color: var(--sklearn-color-text);\n",
       "  background-color: var(--sklearn-color-fitted-level-2);\n",
       "}\n",
       "\n",
       "/* Estimator label */\n",
       "\n",
       "#sk-container-id-2 div.sk-label label {\n",
       "  font-family: monospace;\n",
       "  font-weight: bold;\n",
       "  display: inline-block;\n",
       "  line-height: 1.2em;\n",
       "}\n",
       "\n",
       "#sk-container-id-2 div.sk-label-container {\n",
       "  text-align: center;\n",
       "}\n",
       "\n",
       "/* Estimator-specific */\n",
       "#sk-container-id-2 div.sk-estimator {\n",
       "  font-family: monospace;\n",
       "  border: 1px dotted var(--sklearn-color-border-box);\n",
       "  border-radius: 0.25em;\n",
       "  box-sizing: border-box;\n",
       "  margin-bottom: 0.5em;\n",
       "  /* unfitted */\n",
       "  background-color: var(--sklearn-color-unfitted-level-0);\n",
       "}\n",
       "\n",
       "#sk-container-id-2 div.sk-estimator.fitted {\n",
       "  /* fitted */\n",
       "  background-color: var(--sklearn-color-fitted-level-0);\n",
       "}\n",
       "\n",
       "/* on hover */\n",
       "#sk-container-id-2 div.sk-estimator:hover {\n",
       "  /* unfitted */\n",
       "  background-color: var(--sklearn-color-unfitted-level-2);\n",
       "}\n",
       "\n",
       "#sk-container-id-2 div.sk-estimator.fitted:hover {\n",
       "  /* fitted */\n",
       "  background-color: var(--sklearn-color-fitted-level-2);\n",
       "}\n",
       "\n",
       "/* Specification for estimator info (e.g. \"i\" and \"?\") */\n",
       "\n",
       "/* Common style for \"i\" and \"?\" */\n",
       "\n",
       ".sk-estimator-doc-link,\n",
       "a:link.sk-estimator-doc-link,\n",
       "a:visited.sk-estimator-doc-link {\n",
       "  float: right;\n",
       "  font-size: smaller;\n",
       "  line-height: 1em;\n",
       "  font-family: monospace;\n",
       "  background-color: var(--sklearn-color-background);\n",
       "  border-radius: 1em;\n",
       "  height: 1em;\n",
       "  width: 1em;\n",
       "  text-decoration: none !important;\n",
       "  margin-left: 0.5em;\n",
       "  text-align: center;\n",
       "  /* unfitted */\n",
       "  border: var(--sklearn-color-unfitted-level-1) 1pt solid;\n",
       "  color: var(--sklearn-color-unfitted-level-1);\n",
       "}\n",
       "\n",
       ".sk-estimator-doc-link.fitted,\n",
       "a:link.sk-estimator-doc-link.fitted,\n",
       "a:visited.sk-estimator-doc-link.fitted {\n",
       "  /* fitted */\n",
       "  border: var(--sklearn-color-fitted-level-1) 1pt solid;\n",
       "  color: var(--sklearn-color-fitted-level-1);\n",
       "}\n",
       "\n",
       "/* On hover */\n",
       "div.sk-estimator:hover .sk-estimator-doc-link:hover,\n",
       ".sk-estimator-doc-link:hover,\n",
       "div.sk-label-container:hover .sk-estimator-doc-link:hover,\n",
       ".sk-estimator-doc-link:hover {\n",
       "  /* unfitted */\n",
       "  background-color: var(--sklearn-color-unfitted-level-3);\n",
       "  color: var(--sklearn-color-background);\n",
       "  text-decoration: none;\n",
       "}\n",
       "\n",
       "div.sk-estimator.fitted:hover .sk-estimator-doc-link.fitted:hover,\n",
       ".sk-estimator-doc-link.fitted:hover,\n",
       "div.sk-label-container:hover .sk-estimator-doc-link.fitted:hover,\n",
       ".sk-estimator-doc-link.fitted:hover {\n",
       "  /* fitted */\n",
       "  background-color: var(--sklearn-color-fitted-level-3);\n",
       "  color: var(--sklearn-color-background);\n",
       "  text-decoration: none;\n",
       "}\n",
       "\n",
       "/* Span, style for the box shown on hovering the info icon */\n",
       ".sk-estimator-doc-link span {\n",
       "  display: none;\n",
       "  z-index: 9999;\n",
       "  position: relative;\n",
       "  font-weight: normal;\n",
       "  right: .2ex;\n",
       "  padding: .5ex;\n",
       "  margin: .5ex;\n",
       "  width: min-content;\n",
       "  min-width: 20ex;\n",
       "  max-width: 50ex;\n",
       "  color: var(--sklearn-color-text);\n",
       "  box-shadow: 2pt 2pt 4pt #999;\n",
       "  /* unfitted */\n",
       "  background: var(--sklearn-color-unfitted-level-0);\n",
       "  border: .5pt solid var(--sklearn-color-unfitted-level-3);\n",
       "}\n",
       "\n",
       ".sk-estimator-doc-link.fitted span {\n",
       "  /* fitted */\n",
       "  background: var(--sklearn-color-fitted-level-0);\n",
       "  border: var(--sklearn-color-fitted-level-3);\n",
       "}\n",
       "\n",
       ".sk-estimator-doc-link:hover span {\n",
       "  display: block;\n",
       "}\n",
       "\n",
       "/* \"?\"-specific style due to the `<a>` HTML tag */\n",
       "\n",
       "#sk-container-id-2 a.estimator_doc_link {\n",
       "  float: right;\n",
       "  font-size: 1rem;\n",
       "  line-height: 1em;\n",
       "  font-family: monospace;\n",
       "  background-color: var(--sklearn-color-background);\n",
       "  border-radius: 1rem;\n",
       "  height: 1rem;\n",
       "  width: 1rem;\n",
       "  text-decoration: none;\n",
       "  /* unfitted */\n",
       "  color: var(--sklearn-color-unfitted-level-1);\n",
       "  border: var(--sklearn-color-unfitted-level-1) 1pt solid;\n",
       "}\n",
       "\n",
       "#sk-container-id-2 a.estimator_doc_link.fitted {\n",
       "  /* fitted */\n",
       "  border: var(--sklearn-color-fitted-level-1) 1pt solid;\n",
       "  color: var(--sklearn-color-fitted-level-1);\n",
       "}\n",
       "\n",
       "/* On hover */\n",
       "#sk-container-id-2 a.estimator_doc_link:hover {\n",
       "  /* unfitted */\n",
       "  background-color: var(--sklearn-color-unfitted-level-3);\n",
       "  color: var(--sklearn-color-background);\n",
       "  text-decoration: none;\n",
       "}\n",
       "\n",
       "#sk-container-id-2 a.estimator_doc_link.fitted:hover {\n",
       "  /* fitted */\n",
       "  background-color: var(--sklearn-color-fitted-level-3);\n",
       "}\n",
       "</style><div id=\"sk-container-id-2\" class=\"sk-top-container\"><div class=\"sk-text-repr-fallback\"><pre>LinearRegression()</pre><b>In a Jupyter environment, please rerun this cell to show the HTML representation or trust the notebook. <br />On GitHub, the HTML representation is unable to render, please try loading this page with nbviewer.org.</b></div><div class=\"sk-container\" hidden><div class=\"sk-item\"><div class=\"sk-estimator fitted sk-toggleable\"><input class=\"sk-toggleable__control sk-hidden--visually\" id=\"sk-estimator-id-2\" type=\"checkbox\" checked><label for=\"sk-estimator-id-2\" class=\"sk-toggleable__label fitted sk-toggleable__label-arrow\"><div><div>LinearRegression</div></div><div><a class=\"sk-estimator-doc-link fitted\" rel=\"noreferrer\" target=\"_blank\" href=\"https://scikit-learn.org/1.6/modules/generated/sklearn.linear_model.LinearRegression.html\">?<span>Documentation for LinearRegression</span></a><span class=\"sk-estimator-doc-link fitted\">i<span>Fitted</span></span></div></label><div class=\"sk-toggleable__content fitted\"><pre>LinearRegression()</pre></div> </div></div></div></div>"
      ],
      "text/plain": [
       "LinearRegression()"
      ]
     },
     "execution_count": 62,
     "metadata": {},
     "output_type": "execute_result"
    }
   ],
   "source": [
    "from sklearn.linear_model import LinearRegression\n",
    "regressor = LinearRegression()\n",
    "regressor.fit(x_train, y_train)"
   ]
  },
  {
   "cell_type": "markdown",
   "metadata": {},
   "source": [
    "I obtained the `predicted values` for the price and rounded them to two decimal places for easier observation."
   ]
  },
  {
   "cell_type": "code",
   "execution_count": 63,
   "metadata": {},
   "outputs": [],
   "source": [
    "y_pred_reg = regressor.predict(x_test)\n",
    "np.set_printoptions(precision=2)\n",
    "# y_pred_reg"
   ]
  },
  {
   "cell_type": "markdown",
   "metadata": {},
   "source": [
    "By using `r2_score()`, I was able to obtain the coefficient of determination (R²) for the regression model, which measures the goodness of fit of the model.\n",
    "\n",
    "It is worth mentioning that I tested the effectiveness of different feature engineering strategies by altering the code.\n",
    "\n",
    "* If I kept 'Screen Size' in the model training, the R² value was 0.66.\n",
    "* If I did not use `One-Hot Encoding` and instead applied Label Encoding to all features, the R² value dropped to 0.60.\n",
    "\n",
    "This indicates that the feature engineering strategies I used were relatively effective in improving the model's performance."
   ]
  },
  {
   "cell_type": "code",
   "execution_count": 64,
   "metadata": {},
   "outputs": [
    {
     "data": {
      "text/plain": [
       "0.7069288478349924"
      ]
     },
     "execution_count": 64,
     "metadata": {},
     "output_type": "execute_result"
    }
   ],
   "source": [
    "from sklearn.metrics import r2_score\n",
    "r2_score(y_test, y_pred_reg)"
   ]
  },
  {
   "cell_type": "markdown",
   "metadata": {},
   "source": [
    "After obtaining the `predicted values` for the price, I merged them with the corresponding `actual price` values to create a new dataframe. \n",
    "\n",
    "I then re-sorted the dataframe to facilitate better comparison between the predicted and actual prices."
   ]
  },
  {
   "cell_type": "code",
   "execution_count": 65,
   "metadata": {},
   "outputs": [
    {
     "data": {
      "text/html": [
       "<div>\n",
       "<style scoped>\n",
       "    .dataframe tbody tr th:only-of-type {\n",
       "        vertical-align: middle;\n",
       "    }\n",
       "\n",
       "    .dataframe tbody tr th {\n",
       "        vertical-align: top;\n",
       "    }\n",
       "\n",
       "    .dataframe thead th {\n",
       "        text-align: right;\n",
       "    }\n",
       "</style>\n",
       "<table border=\"1\" class=\"dataframe\">\n",
       "  <thead>\n",
       "    <tr style=\"text-align: right;\">\n",
       "      <th></th>\n",
       "      <th>Actual</th>\n",
       "      <th>pred</th>\n",
       "    </tr>\n",
       "  </thead>\n",
       "  <tbody>\n",
       "    <tr>\n",
       "      <th>0</th>\n",
       "      <td>-0.249254</td>\n",
       "      <td>-0.271658</td>\n",
       "    </tr>\n",
       "    <tr>\n",
       "      <th>1</th>\n",
       "      <td>1.123166</td>\n",
       "      <td>2.201025</td>\n",
       "    </tr>\n",
       "    <tr>\n",
       "      <th>2</th>\n",
       "      <td>-1.110782</td>\n",
       "      <td>-0.437518</td>\n",
       "    </tr>\n",
       "    <tr>\n",
       "      <th>3</th>\n",
       "      <td>-0.254978</td>\n",
       "      <td>-0.159592</td>\n",
       "    </tr>\n",
       "    <tr>\n",
       "      <th>4</th>\n",
       "      <td>-0.924752</td>\n",
       "      <td>-0.348753</td>\n",
       "    </tr>\n",
       "    <tr>\n",
       "      <th>...</th>\n",
       "      <td>...</td>\n",
       "      <td>...</td>\n",
       "    </tr>\n",
       "    <tr>\n",
       "      <th>256</th>\n",
       "      <td>-1.179476</td>\n",
       "      <td>-1.228045</td>\n",
       "    </tr>\n",
       "    <tr>\n",
       "      <th>257</th>\n",
       "      <td>1.907915</td>\n",
       "      <td>2.227303</td>\n",
       "    </tr>\n",
       "    <tr>\n",
       "      <th>258</th>\n",
       "      <td>0.502079</td>\n",
       "      <td>0.912818</td>\n",
       "    </tr>\n",
       "    <tr>\n",
       "      <th>259</th>\n",
       "      <td>-1.050676</td>\n",
       "      <td>-0.290007</td>\n",
       "    </tr>\n",
       "    <tr>\n",
       "      <th>260</th>\n",
       "      <td>0.036968</td>\n",
       "      <td>-0.429209</td>\n",
       "    </tr>\n",
       "  </tbody>\n",
       "</table>\n",
       "<p>261 rows × 2 columns</p>\n",
       "</div>"
      ],
      "text/plain": [
       "       Actual      pred\n",
       "0   -0.249254 -0.271658\n",
       "1    1.123166  2.201025\n",
       "2   -1.110782 -0.437518\n",
       "3   -0.254978 -0.159592\n",
       "4   -0.924752 -0.348753\n",
       "..        ...       ...\n",
       "256 -1.179476 -1.228045\n",
       "257  1.907915  2.227303\n",
       "258  0.502079  0.912818\n",
       "259 -1.050676 -0.290007\n",
       "260  0.036968 -0.429209\n",
       "\n",
       "[261 rows x 2 columns]"
      ]
     },
     "execution_count": 65,
     "metadata": {},
     "output_type": "execute_result"
    }
   ],
   "source": [
    "compare_df = pd.DataFrame(y_test, columns=['Actual'])\n",
    "compare_df.loc[:,'pred'] = y_pred_reg\n",
    "compare_df"
   ]
  },
  {
   "cell_type": "code",
   "execution_count": 66,
   "metadata": {},
   "outputs": [],
   "source": [
    "results = compare_df[['Actual','pred']].sort_values(by = 'pred').reset_index()"
   ]
  },
  {
   "cell_type": "markdown",
   "metadata": {},
   "source": [
    "After processing the DataFrame, I was able to plot the actual values against the predicted values. \n",
    "\n",
    "This visualization allowed me to better observe the model's performance and provided insights for further analysis."
   ]
  },
  {
   "cell_type": "code",
   "execution_count": 67,
   "metadata": {},
   "outputs": [
    {
     "data": {
      "image/png": "[encoded data removed]",
      "text/plain": [
       "<Figure size 1000x500 with 1 Axes>"
      ]
     },
     "metadata": {},
     "output_type": "display_data"
    }
   ],
   "source": [
    "plt.figure(figsize=(10, 5))\n",
    "\n",
    "\n",
    "plt.scatter(results.index,results['Actual'], color='blue', label='Actual values')\n",
    "plt.plot(results.index,results['pred'], color='red', linewidth=2, label='Regression line')\n",
    "\n",
    "\n",
    "plt.title('Actual vs Predicted Values (Scatter Plot)')\n",
    "plt.xlabel('Index')\n",
    "plt.ylabel('Price(INR)')\n",
    "plt.grid(True)\n",
    "plt.legend()\n",
    "plt.show()"
   ]
  },
  {
   "cell_type": "markdown",
   "metadata": {},
   "source": [
    "Multiple Linear Regression is a relatively basic regression model and may not provide the optimal solution for predicting laptop prices. \n",
    "\n",
    "After further exploration, I decided to experiment with other regression models to see if they could improve prediction accuracy and better achieve the desired forecasting results."
   ]
  },
  {
   "cell_type": "markdown",
   "metadata": {},
   "source": [
    "SVR Model"
   ]
  },
  {
   "cell_type": "code",
   "execution_count": 68,
   "metadata": {},
   "outputs": [
    {
     "name": "stderr",
     "output_type": "stream",
     "text": [
      "c:\\Users\\lenovo\\.conda\\envs\\nlp\\lib\\site-packages\\sklearn\\utils\\validation.py:1408: DataConversionWarning: A column-vector y was passed when a 1d array was expected. Please change the shape of y to (n_samples, ), for example using ravel().\n",
      "  y = column_or_1d(y, warn=True)\n"
     ]
    },
    {
     "data": {
      "text/plain": [
       "0.5771203183032507"
      ]
     },
     "execution_count": 68,
     "metadata": {},
     "output_type": "execute_result"
    }
   ],
   "source": [
    "from sklearn.svm import SVR\n",
    "regressor = SVR(kernel = 'rbf')\n",
    "regressor.fit(x_train, y_train)\n",
    "y_pred_svr = regressor.predict(x_test)\n",
    "np.set_printoptions(precision=2)\n",
    "r2_score(y_test, y_pred_svr)"
   ]
  },
  {
   "cell_type": "markdown",
   "metadata": {},
   "source": [
    "Decision Tree Regression model\n"
   ]
  },
  {
   "cell_type": "markdown",
   "metadata": {},
   "source": [
    "To improve accuracy, I set and adjust the `max_depth` for the Decision Tree Model."
   ]
  },
  {
   "cell_type": "code",
   "execution_count": 69,
   "metadata": {},
   "outputs": [
    {
     "data": {
      "text/plain": [
       "0.7130732958063506"
      ]
     },
     "execution_count": 69,
     "metadata": {},
     "output_type": "execute_result"
    }
   ],
   "source": [
    "from sklearn.tree import DecisionTreeRegressor\n",
    "regressor = DecisionTreeRegressor(max_depth=40,random_state = 0)\n",
    "regressor.fit(x_train, y_train)\n",
    "y_pred_dtree = regressor.predict(x_test)\n",
    "np.set_printoptions(precision=2)\n",
    "r2_score(y_test, y_pred_dtree)"
   ]
  },
  {
   "cell_type": "markdown",
   "metadata": {},
   "source": [
    "Random Forest Model\n"
   ]
  },
  {
   "cell_type": "markdown",
   "metadata": {},
   "source": [
    "By setting `n_estimators=15`, I controlled the model to use 15 decision trees. \n",
    "\n",
    "Typically, more trees can improve the model's predictive accuracy by reducing variance and capturing more complex patterns.\n",
    "\n",
    "Additionally, I set `random_state=0` to fix the random seed, ensuring that the model's results are consistent every time it is run. "
   ]
  },
  {
   "cell_type": "code",
   "execution_count": 70,
   "metadata": {},
   "outputs": [
    {
     "name": "stderr",
     "output_type": "stream",
     "text": [
      "c:\\Users\\lenovo\\.conda\\envs\\nlp\\lib\\site-packages\\sklearn\\base.py:1389: DataConversionWarning: A column-vector y was passed when a 1d array was expected. Please change the shape of y to (n_samples,), for example using ravel().\n",
      "  return fit_method(estimator, *args, **kwargs)\n"
     ]
    },
    {
     "data": {
      "text/plain": [
       "0.7378901977248653"
      ]
     },
     "execution_count": 70,
     "metadata": {},
     "output_type": "execute_result"
    }
   ],
   "source": [
    "from sklearn.ensemble import RandomForestRegressor\n",
    "regressor = RandomForestRegressor(n_estimators = 15, random_state = 0)\n",
    "regressor.fit(x_train, y_train)\n",
    "y_pred_rft = regressor.predict(x_test)\n",
    "np.set_printoptions(precision=2)\n",
    "r2_score(y_test, y_pred_rft)"
   ]
  },
  {
   "cell_type": "markdown",
   "metadata": {},
   "source": [
    "After comparison, I found that among `Multiple Regression`, `SVR`, `Decision Tree Regression`, and `Random Forest Regression`, the `Random Forest model` had the highest prediction accuracy, with an R² value of 0.74.\n",
    "\n",
    "It is worth noting that when I kept the model parameters unchanged but used `label encoding` for all features and discarded `one-hot encoding`, the R² value of Random Forest Regression increased to 0.76.\n",
    "\n",
    "I was curious about this change, so I did some research. \n",
    "\n",
    "The reason for this difference could be that `label encoding` assigns a numerical value to each category in the categorical variable. This encoding method may be more suitable for tree-based models. \n",
    "\n",
    "However, this conclusion may not be entirely accurate, which has driven me to further explore how to choose appropriate feature engineering strategies for different models."
   ]
  },
  {
   "cell_type": "markdown",
   "metadata": {},
   "source": [
    "## Conclusion\n",
    "\n",
    "In this week's project, I conducted the core steps of data preprocessing and feature engineering, which provided a relatively accurate data foundation for different regression models. Afterward, I continuously adjusted the feature engineering strategy to train and compare these regression models, and obtained the one with the highest accuracy.\n",
    "\n",
    "In data preprocessing, I learned how to effectively observe and analyze the raw dataset, such as by checking the data types of columns and the unique values to determine the subsequent feature processing strategies. I also explored a new method for handling missing values, using mode imputation in cases where there were a significant amount of missing values but the data categories were relatively concentrated. Compared to simply discarding missing values, this approach improved the utilization and validity of the dataset.\n",
    "\n",
    "During the feature engineering stage, I used regex and various encoding techniques to process different types of features, and the effectiveness of these approaches was reflected in the model's accuracy. Finally, training the regression models helped me fully understand and master the fundamental processes of machine learning, laying a foundation for producing practical applications. The attempts with various regression models also deepened my understanding of the result performance differences between models.\n",
    "\n",
    "As the project progressed, I encountered some difficulties and recognized gaps in my knowledge. In feature engineering, I realized that some features could be processed further instead of simply encoding them. For example, the Storage feature consists of both storage size and storage medium type (e.g., 256GB SSD and 500GB HDD), which actually represent different dimensions. If I simply extracted the numeric part of the storage size for comparison, the storage medium type would be ignored, leading to a loss of data validity. I believe there may be better ways to handle this feature.\n",
    "\n",
    "Additionally, my understanding of feature processing and how to adapt it to different models is still not clear enough. This limited my ability to adjust my feature processing strategy according to the specific requirements of each model, which ultimately affected the accuracy of the regression model.\n",
    "\n",
    "For this project, I plan to focus on adjusting feature strategies to optimize model performance. First, I will delve deeper into the principles and application scenarios of different models, as well as their specific feature requirements. For instance, linear regression may have a stronger dependency on linear relationships in the data, while tree-based models are better equipped to handle non-linear relationships. At the same time, I will expand my knowledge by exploring more projects and case studies to understand how to conduct targeted feature engineering, using various techniques to extract deeper insights from the features, ultimately achieving better model optimization.\n",
    "\n"
   ]
  }
 ],
 "metadata": {
  "kernelspec": {
   "display_name": "nlp",
   "language": "python",
   "name": "python3"
  },
  "language_info": {
   "codemirror_mode": {
    "name": "ipython",
    "version": 3
   },
   "file_extension": ".py",
   "mimetype": "text/x-python",
   "name": "python",
   "nbconvert_exporter": "python",
   "pygments_lexer": "ipython3",
   "version": "3.10.14"
  }
 },
 "nbformat": 4,
 "nbformat_minor": 2
}
